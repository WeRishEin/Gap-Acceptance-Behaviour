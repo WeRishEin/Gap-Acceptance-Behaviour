{
 "cells": [
  {
   "cell_type": "code",
   "execution_count": 2,
   "metadata": {},
   "outputs": [],
   "source": [
    "import pandas as pd\n",
    "import tensorflow as tf\n",
    "from sklearn.model_selection import train_test_split\n",
    "from tensorflow.keras.models import Sequential\n",
    "from tensorflow.keras.layers import Dense"
   ]
  },
  {
   "cell_type": "code",
   "execution_count": 3,
   "metadata": {},
   "outputs": [],
   "source": [
    "# Load the data into a pandas DataFrame\n",
    "data = pd.read_excel(\"Data/2W#.xlsx\")\n",
    "\n",
    "# Separate the features (X) and the target variable (y)\n",
    "X = data.drop(\"Status\", axis=1)  # Assuming \"Status\" is the name of the target variable column\n",
    "y = data[\"Status\"]\n",
    "\n",
    "# Split the data into training and testing sets\n",
    "X_train, X_test, y_train, y_test = train_test_split(X, y, test_size=0.2, random_state=42)"
   ]
  },
  {
   "cell_type": "code",
   "execution_count": 5,
   "metadata": {},
   "outputs": [
    {
     "name": "stdout",
     "output_type": "stream",
     "text": [
      "Epoch 1/10\n",
      "22/22 [==============================] - 2s 23ms/step - loss: 0.6523 - accuracy: 0.6686 - val_loss: 0.5642 - val_accuracy: 0.7267\n",
      "Epoch 2/10\n",
      "22/22 [==============================] - 0s 6ms/step - loss: 0.5229 - accuracy: 0.8270 - val_loss: 0.4872 - val_accuracy: 0.8081\n",
      "Epoch 3/10\n",
      "22/22 [==============================] - 0s 7ms/step - loss: 0.4522 - accuracy: 0.8488 - val_loss: 0.4504 - val_accuracy: 0.8372\n",
      "Epoch 4/10\n",
      "22/22 [==============================] - 0s 6ms/step - loss: 0.3791 - accuracy: 0.8968 - val_loss: 0.3651 - val_accuracy: 0.8547\n",
      "Epoch 5/10\n",
      "22/22 [==============================] - 0s 6ms/step - loss: 0.3214 - accuracy: 0.8881 - val_loss: 0.3303 - val_accuracy: 0.8488\n",
      "Epoch 6/10\n",
      "22/22 [==============================] - 0s 6ms/step - loss: 0.2794 - accuracy: 0.8837 - val_loss: 0.2884 - val_accuracy: 0.8779\n",
      "Epoch 7/10\n",
      "22/22 [==============================] - 0s 7ms/step - loss: 0.2544 - accuracy: 0.9070 - val_loss: 0.3274 - val_accuracy: 0.8430\n",
      "Epoch 8/10\n",
      "22/22 [==============================] - 0s 7ms/step - loss: 0.2671 - accuracy: 0.8895 - val_loss: 0.2882 - val_accuracy: 0.8547\n",
      "Epoch 9/10\n",
      "22/22 [==============================] - 0s 6ms/step - loss: 0.2458 - accuracy: 0.9012 - val_loss: 0.2579 - val_accuracy: 0.8721\n",
      "Epoch 10/10\n",
      "22/22 [==============================] - 0s 8ms/step - loss: 0.2167 - accuracy: 0.9128 - val_loss: 0.2479 - val_accuracy: 0.8779\n",
      "7/7 [==============================] - 0s 3ms/step - loss: 0.1841 - accuracy: 0.9349\n",
      "Test loss: 0.1841, Test accuracy: 0.9349\n"
     ]
    }
   ],
   "source": [
    "# Create a Sequential model\n",
    "model = Sequential()\n",
    "\n",
    "# Add input layer and hidden layers\n",
    "model.add(Dense(units=64, activation='relu', input_dim=X_train.shape[1]))  # Adjust units as needed\n",
    "model.add(Dense(units=32, activation='relu'))  # Adjust units as needed\n",
    "model.add(Dense(units=32, activation='relu'))\n",
    "\n",
    "# Add output layer\n",
    "model.add(Dense(units=1, activation='sigmoid'))\n",
    "\n",
    "# Compile the model\n",
    "model.compile(optimizer='adam', loss='binary_crossentropy', metrics=['accuracy'])\n",
    "\n",
    "# Train the model\n",
    "model.fit(X_train, y_train, epochs=10, batch_size=32, validation_split=0.2)\n",
    "\n",
    "# Evaluate the model on the test set\n",
    "loss, accuracy = model.evaluate(X_test, y_test)\n",
    "print(f\"Test loss: {loss:.4f}, Test accuracy: {accuracy:.4f}\")\n"
   ]
  },
  {
   "cell_type": "code",
   "execution_count": 7,
   "metadata": {},
   "outputs": [
    {
     "name": "stderr",
     "output_type": "stream",
     "text": [
      "c:\\Users\\weris\\AppData\\Local\\Programs\\Python\\Python311\\Lib\\site-packages\\transformers\\tokenization_utils_base.py:2410: FutureWarning: The `pad_to_max_length` argument is deprecated and will be removed in a future version, use `padding=True` or `padding='longest'` to pad to the longest sequence in the batch, or use `padding='max_length'` to pad to a max length. In this case, you can give a specific length with `max_length` (e.g. `max_length=45`) or leave max_length to None to pad to the maximal input size of the model (e.g. 512 for Bert).\n",
      "  warnings.warn(\n"
     ]
    },
    {
     "ename": "AttributeError",
     "evalue": "'BaseModelOutputWithPoolingAndCrossAttentions' object has no attribute 'squeeze'",
     "output_type": "error",
     "traceback": [
      "\u001b[1;31m---------------------------------------------------------------------------\u001b[0m",
      "\u001b[1;31mAttributeError\u001b[0m                            Traceback (most recent call last)",
      "Cell \u001b[1;32mIn[7], line 72\u001b[0m\n\u001b[0;32m     68\u001b[0m optimizer\u001b[39m.\u001b[39mzero_grad()\n\u001b[0;32m     70\u001b[0m outputs \u001b[39m=\u001b[39m model(ids, mask, token_type_ids)\n\u001b[1;32m---> 72\u001b[0m loss \u001b[39m=\u001b[39m criterion(outputs\u001b[39m.\u001b[39;49msqueeze(), targets)\n\u001b[0;32m     73\u001b[0m loss\u001b[39m.\u001b[39mbackward()\n\u001b[0;32m     74\u001b[0m optimizer\u001b[39m.\u001b[39mstep()\n",
      "\u001b[1;31mAttributeError\u001b[0m: 'BaseModelOutputWithPoolingAndCrossAttentions' object has no attribute 'squeeze'"
     ]
    }
   ],
   "source": []
  },
  {
   "cell_type": "code",
   "execution_count": null,
   "metadata": {},
   "outputs": [],
   "source": []
  }
 ],
 "metadata": {
  "kernelspec": {
   "display_name": "Python 3",
   "language": "python",
   "name": "python3"
  },
  "language_info": {
   "codemirror_mode": {
    "name": "ipython",
    "version": 3
   },
   "file_extension": ".py",
   "mimetype": "text/x-python",
   "name": "python",
   "nbconvert_exporter": "python",
   "pygments_lexer": "ipython3",
   "version": "3.11.3"
  },
  "orig_nbformat": 4
 },
 "nbformat": 4,
 "nbformat_minor": 2
}
